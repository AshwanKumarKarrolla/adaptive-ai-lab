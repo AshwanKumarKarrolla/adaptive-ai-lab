{
 "cells": [
  {
   "cell_type": "markdown",
   "metadata": {
    "id": "cv8L2O7nxcvm"
   },
   "source": [
    "# Assignment: Hands-On with ML Essentials (NumPy, Pandas, Matplotlib)\n",
    "\n",
    "This notebook contains 5 questions to build your skills with Python's core data science libraries. The goal is to practice common operations used in data analysis and machine learning."
   ]
  },
  {
   "cell_type": "markdown",
   "metadata": {
    "id": "bob1I-duxcvo"
   },
   "source": [
    "### Library Imports"
   ]
  },
  {
   "cell_type": "code",
   "execution_count": null,
   "metadata": {
    "id": "xdA4QiDhxcvp"
   },
   "outputs": [],
   "source": [
    "import numpy as np\n",
    "import pandas as pd\n",
    "import matplotlib.pyplot as plt"
   ]
  },
  {
   "cell_type": "markdown",
   "metadata": {
    "id": "iFH_leduxcvq"
   },
   "source": [
    "### Question 1\n",
    "\n",
    "**Instructions:**\n",
    "Use NumPy to perform a basic analysis of numerical data.\n",
    "\n",
    "- **Task**: Create a 1D NumPy array representing daily sales figures and calculate basic statistics.\n",
    "- **Hints**:\n",
    "    - Use `np.array()` to create the array.\n",
    "    - NumPy arrays have built-in methods like `.mean()`, `.max()`, and `.min()`.\n",
    "    - The `.size` attribute gives the total number of elements."
   ]
  },
  {
   "cell_type": "code",
   "execution_count": null,
   "metadata": {
    "id": "ohRpT6dNxcvq"
   },
   "outputs": [],
   "source": [
    "# write your code here\n",
    "import numpy as np\n",
    "\n",
    "# NumPy 1D array representing daily sales figures.\n",
    "\n",
    "daily_sales = np.array([250.75, 305.50, 195.00, 410.25, 350.00, 520.50, 600.00])\n",
    "\n",
    "# mean (average) of the sales figures.\n",
    "mean_sales = np.mean(daily_sales)\n",
    "\n",
    "# maximum sales figure.\n",
    "max_sales = np.max(daily_sales)\n",
    "\n",
    "# Find the minimum sales figure.\n",
    "min_sales = np.min(daily_sales)\n",
    "\n",
    "# Calculate the total number of elements in the array.\n",
    "total_elements = daily_sales.size\n",
    "\n",
    "# Print the results.\n",
    "print(\"Daily sales figures:\", daily_sales)\n",
    "print(\"Mean sales:\", mean_sales)\n",
    "print(\"Maximum sales:\", max_sales)\n",
    "print(\"Minimum sales:\", min_sales)\n",
    "print(\"Total number of sales figures:\", total_elements)\n",
    "\n"
   ]
  },
  {
   "cell_type": "markdown",
   "metadata": {
    "id": "MsQlCvs-xcvr"
   },
   "source": [
    "### Question 2 : Creating a Student Roster\n",
    "\n",
    "**Instructions:**\n",
    "Use the Pandas library to create a simple, structured table of student information.\n",
    "\n",
    "- **Task**: Create a Pandas DataFrame from a Python dictionary.\n",
    "- **Hints**:\n",
    "    - A DataFrame can be created from a dictionary where keys become column names.\n",
    "    - Use `pd.DataFrame()` to perform the conversion.\n",
    "    - Use `.head()` to view the first few rows and `.shape` to see the dimensions."
   ]
  },
  {
   "cell_type": "code",
   "execution_count": null,
   "metadata": {
    "id": "EMeyKlu6xcvs"
   },
   "outputs": [],
   "source": [
    "# write your code here\n",
    "\n",
    "import pandas as pd\n",
    "\n",
    "# Python dictionary with structured student information\n",
    "student_data = {\n",
    "    'Name': ['Ashwin', 'Bharat', 'Chandu', 'Deva', 'Elijah'],\n",
    "    'Age': [18, 19, 18, 20, 19],\n",
    "    'Major': ['Computer Science', 'Physics', 'Mathematics', 'Biology', 'Chemistry'],\n",
    "    'GPA': [3.8, 3.5, 3.9, 3.7, 3.6]\n",
    "}\n",
    "\n",
    "# Pandas DataFrame from the dictionary\n",
    "student_df = pd.DataFrame(student_data)\n",
    "\n",
    "# Display the head of the DataFrame\n",
    "print(\"DataFrame Head:\")\n",
    "print(student_df.head())\n",
    "\n",
    "# Display the shape of the DataFrame\n",
    "print(\"\\nDataFrame Shape:\")\n",
    "print(student_df.shape)"
   ]
  },
  {
   "cell_type": "markdown",
   "metadata": {
    "id": "ROuF0lq2xcvs"
   },
   "source": [
    "### Question 3: Visualizing Monthly Profits\n",
    "\n",
    "**Instructions:**\n",
    "Use Matplotlib to create a simple bar graph showing the profit for each month.\n",
    "\n",
    "- **Task**: Create a bar graph from pre-defined lists of data.\n",
    "- **Hints**:\n",
    "    - Use `plt.bar()` to create the chart.\n",
    "    - Use `plt.title()`, `plt.xlabel()`, and `plt.ylabel()` to add labels."
   ]
  },
  {
   "cell_type": "code",
   "execution_count": null,
   "metadata": {
    "id": "gVsgu6G-xcvt"
   },
   "outputs": [],
   "source": [
    "# write your code here\n",
    "\n",
    "import matplotlib.pyplot as plt\n",
    "\n",
    "# Sample data for months and profit\n",
    "months = ['Jan', 'Feb', 'Mar', 'Apr', 'May', 'Jun', 'Jul', 'Aug', 'Sep', 'Oct', 'Nov', 'Dec']\n",
    "profit = [15000, 18000, 22000, 19000, 25000, 23000, 28000, 26000, 30000, 29000, 32000, 35000]\n",
    "\n",
    "# Creating the bar graph\n",
    "plt.bar(months, profit)\n",
    "\n",
    "# Add labels and title\n",
    "plt.xlabel('Month')\n",
    "plt.ylabel('Profit ($)')\n",
    "plt.title('Monthly Profit Overview')\n",
    "\n",
    "plt.show()"
   ]
  },
  {
   "cell_type": "markdown",
   "metadata": {
    "id": "jRJsVqLxxcvu"
   },
   "source": [
    "### Question 4 : Manipulating a Weather Data Grid\n",
    "\n",
    "**Instructions:**\n",
    "You are given a 2D NumPy array representing a grid of temperature readings. Manipulate this data using slicing and reshaping.\n",
    "\n",
    "- **Task**: Slice a 2D NumPy array to extract specific parts of the grid, and then reshape it.\n",
    "- **Hints**:\n",
    "    - Slicing syntax is `array[row_start:row_end, col_start:col_end]`.\n",
    "    - A single colon (`:`) selects all elements along that axis."
   ]
  },
  {
   "cell_type": "code",
   "execution_count": null,
   "metadata": {
    "id": "Zur33MI3xcvu"
   },
   "outputs": [],
   "source": [
    "# write your code here\n",
    "\n",
    "import numpy as np\n",
    "\n",
    "# Create a 5x6 array representing temperature readings\n",
    "temperature_grid = np.array([\n",
    " [27, 20, 15, 18, 26, 18],\n",
    " [22, 24, 18, 20, 17, 19],\n",
    " [22, 21, 23, 23, 27, 25],\n",
    " [16, 21, 22, 22, 29, 23],\n",
    " [16, 20, 24, 28, 23, 24]\n",
    "])\n",
    "sliced_temperature_grid = temperature_grid[1:4, 2:5]\n",
    "print(\"Original Temperature Grid:\")\n",
    "print(temperature_grid)\n",
    "print(\"\\nSliced Temperature Grid:\")\n",
    "print(sliced_temperature_grid)"
   ]
  },
  {
   "cell_type": "markdown",
   "metadata": {
    "id": "gX2jVUL2xcvu"
   },
   "source": [
    "### Question 5 : Filtering an Inventory DataFrame\n",
    "\n",
    "**Instructions:**\n",
    "Analyze a DataFrame of product inventory to find items that meet specific criteria.\n",
    "\n",
    "- **Task**: Use logical operations to filter a Pandas DataFrame based on multiple conditions.\n",
    "- **Hints**:\n",
    "    - Use boolean indexing like `df[df['column'] < 10]`.\n",
    "    - For multiple conditions, use `&` (AND) or `|` (OR) and wrap each condition in `()`."
   ]
  },
  {
   "cell_type": "code",
   "execution_count": null,
   "metadata": {
    "id": "fb2Gt4zDxcvv"
   },
   "outputs": [],
   "source": [
    "# write your code here\n",
    "import pandas as pd\n",
    "\n",
    "# Create a sample DataFrame for product inventory\n",
    "data = {\n",
    "    'product_id': [101, 102, 103, 104, 105, 106],\n",
    "    'product_name': ['Laptop', 'Mouse', 'Keyboard', 'Monitor', 'Webcam', 'Headphones'],\n",
    "    'category': ['Electronics', 'Electronics', 'Electronics', 'Electronics', 'Peripherals', 'Audio'],\n",
    "    'quantity_in_stock': [50, 120, 80, 30, 200, 75],\n",
    "    'price': [1200.00, 25.00, 75.00, 300.00, 40.00, 150.00]\n",
    "}\n",
    "df = pd.DataFrame(data)\n",
    "\n",
    "print(\"Original DataFrame:\")\n",
    "print(df)\n",
    "\n",
    "# Filter for items in 'Electronics' category with quantity less than 100\n",
    "filtered_electronics_low_stock = df[\n",
    "    (df['category'] == 'Electronics') & (df['quantity_in_stock'] < 100)\n",
    "]\n",
    "\n",
    "print(\"\\nElectronics with low stock (quantity < 100):\")\n",
    "print(filtered_electronics_low_stock)\n",
    "\n",
    "# Filter for items that are either 'Audio' category OR have a price greater than 200\n",
    "filtered_audio_or_expensive = df[\n",
    "    (df['category'] == 'Audio') | (df['price'] > 200.00)\n",
    "]\n",
    "\n",
    "print(\"\\nAudio items or items with price > 200:\")\n",
    "print(filtered_audio_or_expensive)"
   ]
  }
 ],
 "metadata": {
  "colab": {
   "provenance": []
  },
  "kernelspec": {
   "display_name": "Python 3",
   "language": "python",
   "name": "python3"
  },
  "language_info": {
   "codemirror_mode": {
    "name": "ipython",
    "version": 3
   },
   "file_extension": ".py",
   "mimetype": "text/x-python",
   "name": "python",
   "nbconvert_exporter": "python",
   "pygments_lexer": "ipython3",
   "version": "3.9.12"
  }
 },
 "nbformat": 4,
 "nbformat_minor": 0
}
